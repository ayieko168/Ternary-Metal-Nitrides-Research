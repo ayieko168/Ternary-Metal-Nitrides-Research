{
 "cells": [
  {
   "cell_type": "markdown",
   "id": "3ab4f709",
   "metadata": {},
   "source": [
    "## Suggested workflow\n",
    "\n",
    "    [] Get the data for materials with both elastic properties and ones without\n",
    "    [] Train a model using materials data with elastic props\n",
    "    [] Test my model with materials having calculated elastic properties\n",
    "    [] Plot the results for a perspective on the accuracies\n",
    "    [] Then use the model to predict the elastic props of materials without\n",
    "    [] Plot the results to get a feel of the magnitude of the predicted elastic props\n",
    "    [] Get a select few of the materials with predicted high props and study more\n"
   ]
  },
  {
   "cell_type": "markdown",
   "id": "67fb787f",
   "metadata": {},
   "source": [
    "### Step 1: Get the data for materials with both elastic properties and ones without"
   ]
  },
  {
   "cell_type": "code",
   "execution_count": 1,
   "id": "038ca9ce",
   "metadata": {},
   "outputs": [],
   "source": [
    "import os, sys, random\n",
    "from numpy import mat\n",
    "from pymatgen.ext.matproj import MPRester\n",
    "from pymatgen.io.cif import CifParser, CifFile\n",
    "import json\n",
    "import csv\n",
    "import subprocess\n",
    "import matplotlib.pyplot as plt\n",
    "import pandas as pd\n",
    "import seaborn as sb\n",
    "\n",
    "%matplotlib inline\n"
   ]
  },
  {
   "cell_type": "code",
   "execution_count": 2,
   "id": "a2a00025",
   "metadata": {},
   "outputs": [],
   "source": [
    "API_TOKEN = os.environ.get(\"MPTOKEN\")\n",
    "DATA_PATH = \"\"\n",
    "SCRIPT_PATH = \"\"\n",
    "ROOT_DIR = os.sep.join(os.getcwd().split(os.sep)[:-1])\n",
    "EPOCHS = 20\n"
   ]
  },
  {
   "cell_type": "code",
   "execution_count": 9,
   "id": "aa876537",
   "metadata": {},
   "outputs": [
    {
     "name": "stdout",
     "output_type": "stream",
     "text": [
      "Found candidates json file, using data from it...\n"
     ]
    }
   ],
   "source": [
    "## Contact the materials database API and get all Tarnery materials in the database\n",
    "## - Will filter for the Metals and Nitrates later\n",
    "\n",
    "try:\n",
    "    with open(os.path.join(ROOT_DIR, \"candidates.json\"), 'r') as fo:\n",
    "        print(f\"Found candidates json file, using data from it...\")\n",
    "        materials = json.load(fo)\n",
    "\n",
    "except Exception as e:\n",
    "    print(f\"Could not get candidates json file, getting data and creating cson file\")\n",
    "    \n",
    "    mpr = MPRester(API_TOKEN)\n",
    "    # mpr.materials.available_fields\n",
    "\n",
    "    crt = {\n",
    "        # 'elements': {'$all': ['N']},\n",
    "        'nelements': 3,\n",
    "        # 'band_gap': {'$lt': 1},\n",
    "    }\n",
    "    prt = ['material_id', 'pretty_formula', 'full_formula', 'band_gap', \n",
    "            'unit_cell_formula', 'elements', 'elasticity', 'cif', 'icsd_ids']\n",
    "\n",
    "    materials = mpr.query(criteria=crt, properties=prt)\n",
    "\n",
    "    with open(os.path.join(ROOT_DIR, \"candidates.json\"), 'w') as fo:\n",
    "        json.dump(materials, fo, indent=2)"
   ]
  },
  {
   "cell_type": "code",
   "execution_count": 4,
   "id": "75e04eba",
   "metadata": {},
   "outputs": [
    {
     "name": "stdout",
     "output_type": "stream",
     "text": [
      "['AcEuAu2', 'NiAgSe2', 'PrSiAg', 'Cd(AgI2)2', 'RbAg3Se2', 'CrAgS2', 'CaAgBi', 'AgPPd5', 'TmAgTe2', 'TmAgS2', 'CeMgAg', 'YSiAg', 'TlAgPd2', 'CaInAg2', 'CaCdAg2', 'ZrAgHg2', 'NaAg2Pd', 'LiAgPd2', 'Ba2CdAg', 'AgPd2Au']\n"
     ]
    }
   ],
   "source": [
    "print([x['pretty_formula'] for x in materials[:20]])"
   ]
  },
  {
   "cell_type": "code",
   "execution_count": 11,
   "id": "22ae271a",
   "metadata": {},
   "outputs": [
    {
     "name": "stdout",
     "output_type": "stream",
     "text": [
      "Total Candidates: 59023\n",
      "Candidated found with elastic props: 7372\n",
      "Candidated found without elastic props: 51651\n",
      "Total TMN materials: 2236\n"
     ]
    }
   ],
   "source": [
    "CANDIDATES_WITH = []  # A list of candidate materials with ealstic props\n",
    "CANDIDATES_WITHOUT = [] # A list of candidate materials without ealstic props\n",
    "TMN_MATERIALS = []\n",
    "\n",
    "for mat in materials:\n",
    "    \n",
    "    if mat['elasticity'] is None:\n",
    "        CANDIDATES_WITHOUT.append(mat)\n",
    "    else:\n",
    "        CANDIDATES_WITH.append(mat)\n",
    "\n",
    "with open(os.path.join(ROOT_DIR, \"TMR_Data.json\"), 'r') as fo:\n",
    "    tmn_materials = json.load(fo)\n",
    "    TMN_MATERIALS = tmn_materials.get('candidates')\n",
    "    \n",
    "\n",
    "print(f\"Total Candidates: {len(materials)}\")\n",
    "print(f\"Candidated found with elastic props: {len(CANDIDATES_WITH)}\")\n",
    "print(f\"Candidated found without elastic props: {len(CANDIDATES_WITHOUT)}\")\n",
    "print(f\"Total TMN materials: {len(TMN_MATERIALS)}\")"
   ]
  },
  {
   "cell_type": "markdown",
   "id": "201bf7ff",
   "metadata": {},
   "source": [
    "### Step 2: Train a model using materials data with elastic props\n",
    "##### Step 2.1 Create The Training data"
   ]
  },
  {
   "cell_type": "code",
   "execution_count": 6,
   "id": "63364ebb",
   "metadata": {},
   "outputs": [
    {
     "name": "stdout",
     "output_type": "stream",
     "text": [
      "Creating CIF files...\n",
      "Creating ID Properties csv file...\n",
      "Creating atom Init json file...\n",
      "Done creating training data.\n"
     ]
    }
   ],
   "source": [
    "ID_PROPS_DATA = []\n",
    "\n",
    "## Create CIF files\n",
    "print(f\"Creating CIF files...\")\n",
    "for i in CANDIDATES_WITH:\n",
    "    \n",
    "    mat_name = f\"{i['pretty_formula']}_{i['material_id']}\"\n",
    "    bulk_modulus = i['elasticity']['K_VRH']\n",
    "\n",
    "    with open(os.path.join(ROOT_DIR, f\"src/data/{mat_name}.cif\"), 'w') as fo:\n",
    "        fo.write(i['cif'])\n",
    "\n",
    "    ## Create ID Properties csv file data\n",
    "    ID_PROPS_DATA.append([mat_name, bulk_modulus])\n",
    "    \n",
    "## Create ID Properties csv file\n",
    "print(f\"Creating ID Properties csv file...\")\n",
    "with open(os.path.join(ROOT_DIR, f\"src/data/id_prop.csv\"), 'w', newline='') as f_csv:\n",
    "    writer = csv.writer(f_csv)\n",
    "    for prop in ID_PROPS_DATA:\n",
    "        writer.writerow(prop)\n",
    "\n",
    "## Create atom Init json file\n",
    "print(f\"Creating atom Init json file...\")\n",
    "with open(os.path.join(ROOT_DIR, f\"atom_init.json\"), 'r') as fr:\n",
    "    with open(os.path.join(ROOT_DIR, \"src/data/atom_init.json\"), 'w') as fw:\n",
    "        json.dump(json.load(fr), fw, indent=2)\n",
    "\n",
    "print(f\"Done creating training data.\")\n",
    "\n",
    "\n"
   ]
  },
  {
   "cell_type": "markdown",
   "id": "24d3790a",
   "metadata": {},
   "source": [
    "##### Step 2.2 Train the model"
   ]
  },
  {
   "cell_type": "code",
   "execution_count": 9,
   "id": "5339253a",
   "metadata": {},
   "outputs": [
    {
     "name": "stdout",
     "output_type": "stream",
     "text": [
      "python \"c:\\Users\\PC\\Documents\\tony\\Ternary-Metal-Nitrides-Research\\src/cgcnn-mod-transformers/main.py\" --train-ratio 0.6 --val-ratio 0.2 --test-ratio 0.2 --epochs 20 \"c:\\Users\\PC\\Documents\\tony\\Ternary-Metal-Nitrides-Research\\src/data\"\n",
      "OUTPUT >> Epoch: [0][0/18]\tTime 6.750 (6.750)\tData 5.749 (5.749)\tLoss 3.3729 (3.3729)\tMAE 117.867 (117.867)\n",
      "Epoch: [0][10/18]\tTime 4.590 (5.257)\tData 3.603 (4.058)\tLoss 0.8073 (3.0405)\tMAE 48.669 (94.539)\n",
      "Test: [0/6]\tTime 4.679 (4.679)\tLoss 0.8847 (0.8847)\tMAE 57.510 (57.510)\n",
      " * MAE 56.231\n",
      "Epoch: [1][0/18]\tTime 0.972 (0.972)\tData 0.028 (0.028)\tLoss 0.8769 (0.8769)\tMAE 56.798 (56.798)\n",
      "Epoch: [1][10/18]\tTime 1.508 (1.101)\tData 0.021 (0.015)\tLoss 0.5600 (0.7736)\tMAE 44.885 (51.831)\n",
      "Test: [0/6]\tTime 0.250 (0.250)\tLoss 0.6272 (0.6272)\tMAE 37.322 (37.322)\n",
      " * MAE 32.684\n",
      "Epoch: [2][0/18]\tTime 1.069 (1.069)\tData 0.021 (0.021)\tLoss 0.5012 (0.5012)\tMAE 30.793 (30.793)\n",
      "Epoch: [2][10/18]\tTime 1.023 (1.170)\tData 0.014 (0.015)\tLoss 0.2106 (0.2784)\tMAE 23.562 (26.393)\n",
      "Test: [0/6]\tTime 0.277 (0.277)\tLoss 0.2270 (0.2270)\tMAE 19.917 (19.917)\n",
      " * MAE 20.963\n",
      "Epoch: [3][0/18]\tTime 1.039 (1.039)\tData 0.019 (0.019)\tLoss 0.1282 (0.1282)\tMAE 18.342 (18.342)\n",
      "Epoch: [3][10/18]\tTime 1.094 (1.074)\tData 0.013 (0.014)\tLoss 0.1397 (0.1906)\tMAE 18.174 (19.785)\n",
      "Test: [0/6]\tTime 0.275 (0.275)\tLoss 0.1646 (0.1646)\tMAE 22.374 (22.374)\n",
      " * MAE 24.323\n",
      "Epoch: [4][0/18]\tTime 0.994 (0.994)\tData 0.020 (0.020)\tLoss 0.1196 (0.1196)\tMAE 18.796 (18.796)\n",
      "Epoch: [4][10/18]\tTime 0.956 (0.940)\tData 0.011 (0.012)\tLoss 0.2787 (0.1936)\tMAE 22.867 (20.017)\n",
      "Test: [0/6]\tTime 0.250 (0.250)\tLoss 0.2055 (0.2055)\tMAE 24.861 (24.861)\n",
      " * MAE 24.944\n",
      "Epoch: [5][0/18]\tTime 0.919 (0.919)\tData 0.016 (0.016)\tLoss 0.2905 (0.2905)\tMAE 28.985 (28.985)\n",
      "Epoch: [5][10/18]\tTime 0.951 (0.942)\tData 0.011 (0.011)\tLoss 0.1304 (0.1972)\tMAE 18.853 (20.666)\n",
      "Test: [0/6]\tTime 0.286 (0.286)\tLoss 0.2535 (0.2535)\tMAE 18.939 (18.939)\n",
      " * MAE 19.325\n",
      "Epoch: [6][0/18]\tTime 0.902 (0.902)\tData 0.017 (0.017)\tLoss 0.1282 (0.1282)\tMAE 17.604 (17.604)\n",
      "Epoch: [6][10/18]\tTime 0.993 (0.957)\tData 0.014 (0.013)\tLoss 0.1530 (0.1850)\tMAE 16.774 (18.120)\n",
      "Test: [0/6]\tTime 0.249 (0.249)\tLoss 0.0928 (0.0928)\tMAE 15.249 (15.249)\n",
      " * MAE 16.517\n",
      "Epoch: [7][0/18]\tTime 1.031 (1.031)\tData 0.022 (0.022)\tLoss 0.1257 (0.1257)\tMAE 17.711 (17.711)\n",
      "Epoch: [7][10/18]\tTime 0.882 (0.966)\tData 0.009 (0.013)\tLoss 0.2425 (0.1681)\tMAE 16.617 (17.349)\n",
      "Test: [0/6]\tTime 0.366 (0.366)\tLoss 0.1285 (0.1285)\tMAE 15.294 (15.294)\n",
      " * MAE 16.529\n",
      "Epoch: [8][0/18]\tTime 1.840 (1.840)\tData 0.041 (0.041)\tLoss 0.1251 (0.1251)\tMAE 18.055 (18.055)\n",
      "Epoch: [8][10/18]\tTime 1.794 (1.407)\tData 0.017 (0.020)\tLoss 0.1414 (0.1424)\tMAE 15.544 (16.667)\n",
      "Test: [0/6]\tTime 0.444 (0.444)\tLoss 0.1622 (0.1622)\tMAE 20.074 (20.074)\n",
      " * MAE 19.632\n",
      "Epoch: [9][0/18]\tTime 1.256 (1.256)\tData 0.092 (0.092)\tLoss 0.1535 (0.1535)\tMAE 17.575 (17.575)\n",
      "Epoch: [9][10/18]\tTime 0.862 (1.102)\tData 0.012 (0.021)\tLoss 0.0887 (0.1374)\tMAE 14.210 (16.411)\n",
      "Test: [0/6]\tTime 0.311 (0.311)\tLoss 0.1052 (0.1052)\tMAE 15.266 (15.266)\n",
      " * MAE 15.563\n",
      "Epoch: [10][0/18]\tTime 1.188 (1.188)\tData 0.024 (0.024)\tLoss 0.1043 (0.1043)\tMAE 15.483 (15.483)\n",
      "Epoch: [10][10/18]\tTime 1.007 (1.093)\tData 0.014 (0.015)\tLoss 0.1042 (0.1508)\tMAE 16.080 (15.628)\n",
      "Test: [0/6]\tTime 0.301 (0.301)\tLoss 0.0892 (0.0892)\tMAE 14.077 (14.077)\n",
      " * MAE 15.416\n",
      "Epoch: [11][0/18]\tTime 1.036 (1.036)\tData 0.020 (0.020)\tLoss 0.0840 (0.0840)\tMAE 13.376 (13.376)\n",
      "Epoch: [11][10/18]\tTime 1.003 (1.030)\tData 0.012 (0.014)\tLoss 0.1025 (0.1749)\tMAE 15.227 (17.762)\n",
      "Test: [0/6]\tTime 0.300 (0.300)\tLoss 0.2122 (0.2122)\tMAE 17.369 (17.369)\n",
      " * MAE 17.602\n",
      "Epoch: [12][0/18]\tTime 1.310 (1.310)\tData 0.020 (0.020)\tLoss 0.2841 (0.2841)\tMAE 21.847 (21.847)\n",
      "Epoch: [12][10/18]\tTime 1.105 (1.079)\tData 0.011 (0.014)\tLoss 0.1135 (0.1511)\tMAE 13.862 (16.336)\n",
      "Test: [0/6]\tTime 0.270 (0.270)\tLoss 0.2253 (0.2253)\tMAE 17.697 (17.697)\n",
      " * MAE 15.844\n",
      "Epoch: [13][0/18]\tTime 1.147 (1.147)\tData 0.021 (0.021)\tLoss 0.1136 (0.1136)\tMAE 16.702 (16.702)\n",
      "Epoch: [13][10/18]\tTime 0.996 (0.985)\tData 0.011 (0.014)\tLoss 0.2497 (0.1490)\tMAE 21.087 (16.585)\n",
      "Test: [0/6]\tTime 0.377 (0.377)\tLoss 0.3423 (0.3423)\tMAE 18.583 (18.583)\n",
      " * MAE 16.528\n",
      "Epoch: [14][0/18]\tTime 1.032 (1.032)\tData 0.019 (0.019)\tLoss 0.0928 (0.0928)\tMAE 14.844 (14.844)\n",
      "Epoch: [14][10/18]\tTime 0.933 (0.978)\tData 0.011 (0.013)\tLoss 0.2823 (0.1568)\tMAE 17.936 (16.345)\n",
      "Test: [0/6]\tTime 0.281 (0.281)\tLoss 0.3458 (0.3458)\tMAE 18.546 (18.546)\n",
      " * MAE 16.153\n",
      "Epoch: [15][0/18]\tTime 1.020 (1.020)\tData 0.019 (0.019)\tLoss 0.0997 (0.0997)\tMAE 16.260 (16.260)\n",
      "Epoch: [15][10/18]\tTime 1.606 (1.384)\tData 0.016 (0.016)\tLoss 0.1302 (0.1114)\tMAE 17.321 (14.910)\n",
      "Test: [0/6]\tTime 0.305 (0.305)\tLoss 0.0997 (0.0997)\tMAE 14.331 (14.331)\n",
      " * MAE 15.971\n",
      "Epoch: [16][0/18]\tTime 1.014 (1.014)\tData 0.015 (0.015)\tLoss 0.2573 (0.2573)\tMAE 18.694 (18.694)\n",
      "Epoch: [16][10/18]\tTime 1.009 (1.183)\tData 0.016 (0.017)\tLoss 0.0916 (0.1249)\tMAE 14.612 (16.167)\n",
      "Test: [0/6]\tTime 0.281 (0.281)\tLoss 0.2870 (0.2870)\tMAE 19.111 (19.111)\n",
      " * MAE 17.582\n",
      "Epoch: [17][0/18]\tTime 0.935 (0.935)\tData 0.021 (0.021)\tLoss 0.1900 (0.1900)\tMAE 14.851 (14.851)\n",
      "Epoch: [17][10/18]\tTime 1.513 (1.212)\tData 0.032 (0.017)\tLoss 0.0944 (0.1505)\tMAE 14.321 (15.815)\n",
      "Test: [0/6]\tTime 0.517 (0.517)\tLoss 0.1404 (0.1404)\tMAE 16.707 (16.707)\n",
      " * MAE 15.974\n",
      "Epoch: [18][0/18]\tTime 1.510 (1.510)\tData 0.027 (0.027)\tLoss 0.0690 (0.0690)\tMAE 12.808 (12.808)\n",
      "Epoch: [18][10/18]\tTime 0.971 (1.208)\tData 0.014 (0.016)\tLoss 0.0743 (0.1094)\tMAE 12.890 (14.767)\n",
      "Test: [0/6]\tTime 0.294 (0.294)\tLoss 0.1243 (0.1243)\tMAE 17.897 (17.897)\n",
      " * MAE 17.715\n",
      "Epoch: [19][0/18]\tTime 1.291 (1.291)\tData 0.031 (0.031)\tLoss 0.1270 (0.1270)\tMAE 18.162 (18.162)\n",
      "Epoch: [19][10/18]\tTime 0.942 (1.077)\tData 0.012 (0.015)\tLoss 0.0793 (0.1327)\tMAE 14.130 (15.127)\n",
      "Test: [0/6]\tTime 0.239 (0.239)\tLoss 0.2241 (0.2241)\tMAE 17.985 (17.985)\n",
      " * MAE 16.901\n",
      "---------Evaluate Model on Test Set---------------\n",
      "Test: [0/6]\tTime 3.048 (3.048)\tLoss 0.2564 (0.2564)\tMAE 17.723 (17.723)\n",
      " ** MAE 16.762\n",
      "\n",
      "ERROR >> c:\\Users\\PC\\Documents\\tony\\Ternary-Metal-Nitrides-Research\\venv\\lib\\site-packages\\pymatgen\\io\\cif.py:1160: UserWarning: Issues encountered while parsing CIF: Some fractional coordinates rounded to ideal values to avoid issues with finite precision.\n",
      "  warnings.warn(\"Issues encountered while parsing CIF: %s\" % \"\\n\".join(self.warnings))\n",
      "\n"
     ]
    }
   ],
   "source": [
    "main_file = os.path.join(ROOT_DIR, \"src/cgcnn-mod-transformers/main.py\")\n",
    "data_file = os.path.join(ROOT_DIR, \"src/data\")\n",
    "\n",
    "run_options = f\"--train-ratio 0.6 --val-ratio 0.2 --test-ratio 0.2 --epochs {EPOCHS}\"\n",
    "\n",
    "\n",
    "cmd = f\"python \\\"{main_file}\\\" {run_options} \\\"{data_file}\\\"\"\n",
    "# cmd = \"python -c print('Hello-world')\"\n",
    "print(cmd)\n",
    "\n",
    "process = subprocess.Popen(cmd, shell=True, stdout=subprocess.PIPE, stderr=subprocess.PIPE)\n",
    "\n",
    "out, err = process.communicate()\n",
    "print(f\"OUTPUT >> {out.decode('utf-8')}\")\n",
    "print(f\"ERROR >> {err.decode('utf-8')}\")\n",
    "# print(result.decode(\"utf-8\"))\n"
   ]
  },
  {
   "cell_type": "code",
   "execution_count": 6,
   "id": "410726e9",
   "metadata": {},
   "outputs": [
    {
     "name": "stdout",
     "output_type": "stream",
     "text": [
      "             material  test      result   Unnamed: 3\n",
      "0  Nd(PdO2)2_mp-15051   147  146.981110  0.000128506\n",
      "1    VZnO3_mp-1016931   178  178.040085  0.000225196\n",
      "2   SmHoZn2_mp-978537    58   57.981445  0.000319908\n",
      "3      PrAlO3_mp-8218   194  194.068146  0.000351267\n",
      "4   Ho2IrRh_mp-864625   125  125.060242  0.000481934\n",
      "Working on the scatter plot...\n",
      "Done creating plots\n"
     ]
    },
    {
     "data": {
      "image/png": "[encoded data removed]",
      "text/plain": [
       "<Figure size 432x288 with 1 Axes>"
      ]
     },
     "metadata": {},
     "output_type": "display_data"
    }
   ],
   "source": [
    "# result_file = os.path.join(ROOT_DIR, \"src/test_results.csv\")\n",
    "result_file = os.path.join(ROOT_DIR, \"src/test_results_publish.csv\")\n",
    "\n",
    "df = pd.read_csv(result_file)\n",
    "\n",
    "df.dropna(subset=['material'], inplace=True)\n",
    "\n",
    "print(df.head())\n",
    "\n",
    "## Plot the scatter plot\n",
    "print(f\"Working on the scatter plot...\")\n",
    "color_dict = dict({'test':'brown',\n",
    "                  'result':'green'})\n",
    "\n",
    "sb.set_style(\"darkgrid\")\n",
    "ax = sb.regplot(x='test', y='result', data=df, line_kws={\"color\": \"C1\", 'linewidth': 1.5}, scatter_kws={'color': 'blue', 's': 15})\n",
    "# ax = sb.scatterplot(x=\"test\", y=\"result\", data=df, palette=color_dict, legend='full')\n",
    "ax.set_title(f\"A regression scatter plot showing the relationship between the predicted and\\n actual bulk modulus values after training. ({len(df)} points)\")\n",
    "ax.set_xlabel(\"Experimental Bulk Modulus (GPa)\")\n",
    "ax.set_ylabel(\"Predicted Bulk Modulus (GPa)\")\n",
    "\n",
    "\n",
    "print(\"Done creating plots\")"
   ]
  },
  {
   "attachments": {},
   "cell_type": "markdown",
   "id": "06bd20d2",
   "metadata": {},
   "source": [
    "#### 2.2.1 Create scatter plots showing perfomeance of the model for TMNs"
   ]
  },
  {
   "cell_type": "code",
   "execution_count": 21,
   "metadata": {},
   "outputs": [
    {
     "name": "stdout",
     "output_type": "stream",
     "text": [
      "mp-1097065\n"
     ]
    },
    {
     "data": {
      "text/plain": [
       "Text(0, 0.5, 'Predicted Bulk Modulus (GPa)')"
      ]
     },
     "execution_count": 21,
     "metadata": {},
     "output_type": "execute_result"
    },
    {
     "data": {
      "image/png": "[encoded data removed]",
      "text/plain": [
       "<Figure size 432x288 with 1 Axes>"
      ]
     },
     "metadata": {},
     "output_type": "display_data"
    }
   ],
   "source": [
    "# Split the 'material' column into 'material_formula' and 'material_id'\n",
    "df[['material_formula', 'material_id']] = df['material'].str.split('_', expand=True)\n",
    "df.head()\n",
    "\n",
    "# get a list of tmn material ids\n",
    "tmn_material_ids = [m.get('material_id') for m in TMN_MATERIALS]\n",
    "print(tmn_material_ids[0])\n",
    "\n",
    "# Filter the DataFrame based on 'material_id'\n",
    "filtered_df = df[df['material_id'].isin(tmn_material_ids)]\n",
    "\n",
    "# Remove the 'material_formula' and 'material_id' columns\n",
    "filtered_df = filtered_df.drop(['material_formula', 'material_id'], axis=1)\n",
    "\n",
    "sb.set_style(\"darkgrid\")\n",
    "ax = sb.regplot(x='test', y='result', data=filtered_df, line_kws={\"color\": \"C1\", 'linewidth': 1.5}, scatter_kws={'color': 'blue', 's': 15})\n",
    "# ax = sb.scatterplot(x=\"test\", y=\"result\", data=df, palette=color_dict, legend='full')\n",
    "ax.set_title(f\"A regression scatter plot showing the relationship between the predicted and\\n actual bulk modulus values after training. ({len(filtered_df)} points)\")\n",
    "ax.set_xlabel(\"Experimental Bulk Modulus (GPa)\")\n",
    "ax.set_ylabel(\"Predicted Bulk Modulus (GPa)\")\n"
   ]
  },
  {
   "attachments": {},
   "cell_type": "markdown",
   "id": "d0e7724b",
   "metadata": {},
   "source": [
    "#### 2.2.2 Create scatter plots showing perfomeance of the model for non TMNs"
   ]
  },
  {
   "cell_type": "code",
   "execution_count": 23,
   "id": "36f46201",
   "metadata": {},
   "outputs": [
    {
     "name": "stdout",
     "output_type": "stream",
     "text": [
      "mp-1097065\n"
     ]
    },
    {
     "data": {
      "text/plain": [
       "Text(0, 0.5, 'Predicted Bulk Modulus (GPa)')"
      ]
     },
     "execution_count": 23,
     "metadata": {},
     "output_type": "execute_result"
    },
    {
     "data": {
      "image/png": "[encoded data removed]",
      "text/plain": [
       "<Figure size 432x288 with 1 Axes>"
      ]
     },
     "metadata": {},
     "output_type": "display_data"
    }
   ],
   "source": [
    "# Split the 'material' column into 'material_formula' and 'material_id'\n",
    "df[['material_formula', 'material_id']] = df['material'].str.split('_', expand=True)\n",
    "df.head()\n",
    "\n",
    "# get a list of tmn material ids\n",
    "tmn_material_ids = [m.get('material_id') for m in TMN_MATERIALS]\n",
    "print(tmn_material_ids[0])\n",
    "\n",
    "# Filter the DataFrame based on 'material_id'\n",
    "filtered_df = df[~df['material_id'].isin(tmn_material_ids)]\n",
    "\n",
    "# Remove the 'material_formula' and 'material_id' columns\n",
    "filtered_df = filtered_df.drop(['material_formula', 'material_id'], axis=1)\n",
    "\n",
    "sb.set_style(\"darkgrid\")\n",
    "ax = sb.regplot(x='test', y='result', data=filtered_df, line_kws={\"color\": \"C1\", 'linewidth': 1.5}, scatter_kws={'color': 'blue', 's': 15})\n",
    "# ax = sb.scatterplot(x=\"test\", y=\"result\", data=df, palette=color_dict, legend='full')\n",
    "ax.set_title(f\"A regression scatter plot showing the relationship between the predicted and\\n actual bulk modulus values after training. ({len(filtered_df)} points)\")\n",
    "ax.set_xlabel(\"Experimental Bulk Modulus (GPa)\")\n",
    "ax.set_ylabel(\"Predicted Bulk Modulus (GPa)\")\n"
   ]
  },
  {
   "cell_type": "markdown",
   "id": "8466db87",
   "metadata": {},
   "source": [
    "### Step 3: Test my model with materials having calculated elastic properties"
   ]
  },
  {
   "cell_type": "markdown",
   "id": "48358625",
   "metadata": {},
   "source": [
    "##### 3.1 Create data folder for prediction"
   ]
  },
  {
   "cell_type": "code",
   "execution_count": 9,
   "id": "3301165d",
   "metadata": {},
   "outputs": [
    {
     "data": {
      "text/plain": [
       "{'material_id': 'mp-1065204',\n",
       " 'pretty_formula': 'CrAgS2',\n",
       " 'full_formula': 'Cr1Ag1S2',\n",
       " 'band_gap': 0.0,\n",
       " 'unit_cell_formula': {'Cr': 1.0, 'Ag': 1.0, 'S': 2.0},\n",
       " 'elements': ['Ag', 'Cr', 'S'],\n",
       " 'elasticity': None,\n",
       " 'cif': \"# generated using pymatgen\\ndata_CrAgS2\\n_symmetry_space_group_name_H-M   'P 1'\\n_cell_length_a   7.46347352\\n_cell_length_b   7.46347352\\n_cell_length_c   7.46347408\\n_cell_angle_alpha   26.53864030\\n_cell_angle_beta   26.53864030\\n_cell_angle_gamma   26.53864597\\n_symmetry_Int_Tables_number   1\\n_chemical_formula_structural   CrAgS2\\n_chemical_formula_sum   'Cr1 Ag1 S2'\\n_cell_volume   73.15966386\\n_cell_formula_units_Z   1\\nloop_\\n _symmetry_equiv_pos_site_id\\n _symmetry_equiv_pos_as_xyz\\n  1  'x, y, z'\\nloop_\\n _atom_site_type_symbol\\n _atom_site_label\\n _atom_site_symmetry_multiplicity\\n _atom_site_fract_x\\n _atom_site_fract_y\\n _atom_site_fract_z\\n _atom_site_occupancy\\n  Cr  Cr0  1  0.85721000  0.85721000  0.85721000  1\\n  Ag  Ag1  1  0.01401800  0.01401800  0.01401800  1\\n  S  S2  1  0.12802900  0.12802900  0.12802900  1\\n  S  S3  1  0.26074200  0.26074200  0.26074200  1\\n\",\n",
       " 'icsd_ids': []}"
      ]
     },
     "execution_count": 9,
     "metadata": {},
     "output_type": "execute_result"
    }
   ],
   "source": []
  },
  {
   "cell_type": "markdown",
   "id": "e98fe940",
   "metadata": {},
   "source": []
  },
  {
   "cell_type": "code",
   "execution_count": 12,
   "id": "0748febb",
   "metadata": {},
   "outputs": [
    {
     "name": "stdout",
     "output_type": "stream",
     "text": [
      "Number of T.M.N materials without elastic properties 1176 out of 51651\n"
     ]
    }
   ],
   "source": [
    "## Get the number of Ternary metal nitride materials in the dataset that dont have elastic properties\n",
    "count = 0\n",
    "for material in CANDIDATES_WITHOUT:\n",
    "\n",
    "    ## Filter through only metal nitrides\n",
    "    if material['band_gap'] < 1:\n",
    "        continue\n",
    "    \n",
    "    if 'N' not in material['elements']:\n",
    "        continue\n",
    "\n",
    "    count += 1\n",
    "\n",
    "print(f\"Number of T.M.N materials without elastic properties {count} out of {len(CANDIDATES_WITHOUT)}\")"
   ]
  },
  {
   "cell_type": "code",
   "execution_count": 15,
   "id": "f4d08b29",
   "metadata": {},
   "outputs": [
    {
     "name": "stdout",
     "output_type": "stream",
     "text": [
      "Creating CIF files...\n",
      "Creating ID Properties csv file...\n",
      "Creating atom Init json file...\n",
      "Done creating predicting data.\n"
     ]
    }
   ],
   "source": [
    "ID_PROPS_DATA = []\n",
    "\n",
    "\n",
    "\n",
    "## Create CIF files for materials without elastic props\n",
    "print(f\"Creating CIF files...\")\n",
    "_CANDIDATES_WITHOUT = random.choices(CANDIDATES_WITHOUT, k=20)\n",
    "for i in CANDIDATES_WITHOUT:\n",
    "\n",
    "    ## Filter through only metal nitrides\n",
    "    if i['band_gap'] < 1:\n",
    "        continue\n",
    "    \n",
    "    if 'N' not in i['elements']:\n",
    "        continue\n",
    "    \n",
    "    mat_name = f\"{i['pretty_formula']}_{i['material_id']}\" # String Formatting\n",
    "    bulk_modulus = random.randint(1, 999)\n",
    "\n",
    "    with open(os.path.join(ROOT_DIR, f\"src/data_predict/{mat_name}.cif\"), 'w') as fo:\n",
    "        fo.write(i['cif'])\n",
    "\n",
    "    ## Create ID Properties csv file data\n",
    "    ID_PROPS_DATA.append([mat_name, bulk_modulus])\n",
    "    \n",
    "## Create ID Properties csv file\n",
    "print(f\"Creating ID Properties csv file...\")\n",
    "with open(os.path.join(ROOT_DIR, f\"src/data_predict/id_prop.csv\"), 'w', newline='') as f_csv:\n",
    "    writer = csv.writer(f_csv)\n",
    "    for prop in ID_PROPS_DATA:\n",
    "        writer.writerow(prop)\n",
    "\n",
    "## Create atom Init json file\n",
    "print(f\"Creating atom Init json file...\")\n",
    "with open(os.path.join(ROOT_DIR, f\"atom_init.json\"), 'r') as fr:\n",
    "    with open(os.path.join(ROOT_DIR, \"src/data_predict/atom_init.json\"), 'w') as fw:\n",
    "        json.dump(json.load(fr), fw, indent=2)\n",
    "\n",
    "print(f\"Done creating predicting data.\")"
   ]
  },
  {
   "cell_type": "code",
   "execution_count": 16,
   "id": "92179270",
   "metadata": {},
   "outputs": [
    {
     "name": "stdout",
     "output_type": "stream",
     "text": [
      "python \"D:\\Projects and Research\\Python Projects\\Ternary-Metal-Nitrides-Research\\src/cgcnn-mod-transformers/predict.py\" \"D:\\Projects and Research\\Python Projects\\Ternary-Metal-Nitrides-Research\\src/17.776MAE_model_best.pth.tar\" \"D:\\Projects and Research\\Python Projects\\Ternary-Metal-Nitrides-Research\\src/data_predict\"\n",
      "OUTPUT >> => loading model params 'D:\\Projects and Research\\Python Projects\\Ternary-Metal-Nitrides-Research\\src/17.776MAE_model_best.pth.tar'\n",
      "=> loaded model params 'D:\\Projects and Research\\Python Projects\\Ternary-Metal-Nitrides-Research\\src/17.776MAE_model_best.pth.tar'\n",
      "=> loading model 'D:\\Projects and Research\\Python Projects\\Ternary-Metal-Nitrides-Research\\src/17.776MAE_model_best.pth.tar'\n",
      "=> loaded model 'D:\\Projects and Research\\Python Projects\\Ternary-Metal-Nitrides-Research\\src/17.776MAE_model_best.pth.tar' (epoch 17, validation 15.8565092086792)\n",
      "Test: [0/5]\tTime 17.946 (17.946)\tLoss 49.1677 (49.1677)\tMAE 403.206 (403.206)\n",
      " ** MAE 420.651\n",
      "\n",
      "ERRORS >> D:\\Projects and Research\\Python Projects\\Ternary-Metal-Nitrides-Research\\venv\\lib\\site-packages\\pymatgen\\io\\cif.py:1160: UserWarning: Issues encountered while parsing CIF: Some fractional coordinates rounded to ideal values to avoid issues with finite precision.\n",
      "  warnings.warn(\"Issues encountered while parsing CIF: %s\" % \"\\n\".join(self.warnings))\n",
      "\n"
     ]
    }
   ],
   "source": [
    "\n",
    "main_file = os.path.join(ROOT_DIR, \"src/cgcnn-mod-transformers/main.py\")\n",
    "predict_file = os.path.join(ROOT_DIR, \"src/cgcnn-mod-transformers/predict.py\")\n",
    "data_file = os.path.join(ROOT_DIR, \"src/data_predict\")\n",
    "bulk_model = os.path.join(ROOT_DIR, \"src/cgcnn-mod-transformers/pre-trained/bulk-moduli.pth.tar\")\n",
    "my_model = os.path.join(ROOT_DIR, \"src/17.776MAE_model_best.pth.tar\")\n",
    "python_exe = os.path.join(ROOT_DIR, \"venv/Scripts/python.exe\")\n",
    "\n",
    "# EPOCHS = 30\n",
    "# run_options = f\"--train-ratio 0.6 --val-ratio 0.2 --test-ratio 0.2 --epochs {EPOCHS}\"\n",
    "\n",
    "\n",
    "cmd = f\"python \\\"{predict_file}\\\" \\\"{my_model}\\\" \\\"{data_file}\\\"\"\n",
    "print(cmd)\n",
    "\n",
    "process = subprocess.Popen(cmd, shell=True, stdout=subprocess.PIPE, stderr=subprocess.PIPE)\n",
    "\n",
    "out, err = process.communicate()\n",
    "print(f\"OUTPUT >> {out.decode('utf-8')}\")\n",
    "print(f\"ERRORS >> {err.decode('utf-8')}\")"
   ]
  },
  {
   "cell_type": "code",
   "execution_count": 33,
   "id": "68a645e2",
   "metadata": {
    "scrolled": true
   },
   "outputs": [
    {
     "name": "stdout",
     "output_type": "stream",
     "text": [
      "      material material_id  prediction\n",
      "0     B2(CN2)3   mp-989468  473.001251\n",
      "1     B2(CN2)3   mp-989466  434.544800\n",
      "2      SrC7N10  mp-1245820  426.541809\n",
      "3      CaC7N10  mp-1247296  426.433441\n",
      "4      PbC7N10  mp-1246015  426.148773\n",
      "...        ...         ...         ...\n",
      "1171     SeNO4  mp-1209541  -24.504280\n",
      "1172      SNF3  mp-1209117  -26.591362\n",
      "1173    C2N2O5  mp-1188168  -26.881630\n",
      "1174      PNO4  mp-1190793  -33.079399\n",
      "1175    C2N2O5  mp-1182116  -34.010277\n",
      "\n",
      "[1176 rows x 3 columns]\n",
      "Done creating plots\n"
     ]
    }
   ],
   "source": [
    "result_file = os.path.join(ROOT_DIR, \"src/predict_results.csv\")\n",
    "\n",
    "df = pd.read_csv(result_file)\n",
    "df = df[['material', 'result']]\n",
    "df = df.sort_values(by='result', ascending=False)\n",
    "\n",
    "df = pd.DataFrame([(i[0].split('_')[0], i[0].split('_')[1], i[1]) for i in df.values], columns=['material', 'material_id', 'prediction'])\n",
    "\n",
    "print(df)\n",
    "df.to_csv('predictions.csv', index=False, header=True)\n",
    "# print(df.head())\n",
    "\n",
    "# ax = sb.scatterplot(x=\"material\", y=\"result\", data=df[:50], legend='full')\n",
    "# small_df = df[:50]\n",
    "# print(df)\n",
    "\n",
    "# print(f\"Working on the bar plot...\")\n",
    "# width = int((small_df.shape[0] * 3) / 5)\n",
    "# print(f\"Widht = {width}\")\n",
    "# ax = small_df.plot(x=\"material\", y=\"result\", kind='bar', figsize=(width, 7),\n",
    "#                 title=f\"Results of a CGCNN Model predictions on the Bulk Modulus of various Ternery Metal Nitrides. [TOTAL-CANDIDATES={small_df.shape[0]}]\",\n",
    "#                 )\n",
    "\n",
    "# ax.set_xlabel(\"Material\")\n",
    "# ax.set_ylabel(\"Predicted Bulk Modulus (GPa)\")\n",
    "\n",
    "# print(\"Done creating plots\")\n",
    "\n",
    "# print(f\"Working on the bar plot 2...\")\n",
    "# width = int((df.shape[0] * 3) / 5)\n",
    "# print(f\"Widht = {width}\")\n",
    "# ax = df.plot(x=\"material\", y=\"result\", kind='bar', figsize=(width, 7),\n",
    "#                 title=f\"Results of a CGCNN Model predictions on the Bulk Modulus of various Ternery Metal Nitrides. [TOTAL-CANDIDATES={df.shape[0]}]\",\n",
    "#                 )\n",
    "\n",
    "# ax.set_xlabel(\"Material\")\n",
    "# ax.set_ylabel(\"Predicted Bulk Modulus (GPa)\")\n",
    "\n",
    "print(\"Done creating plots\")"
   ]
  },
  {
   "cell_type": "markdown",
   "id": "1a78f0de",
   "metadata": {},
   "source": [
    "##### Show Performance of the model on well known materials"
   ]
  },
  {
   "cell_type": "code",
   "execution_count": 34,
   "id": "abdbbae2",
   "metadata": {},
   "outputs": [],
   "source": [
    "## Get the properties for the common materials\n",
    "mpr = MPRester(API_TOKEN)\n",
    "\n",
    "crt = {\n",
    "    'material_id': {'$in': ['mp-66', 'mp-984', 'mp-492', 'mp-631']}\n",
    "}\n",
    "prt = ['material_id', 'pretty_formula', 'full_formula', 'band_gap', \n",
    "        'unit_cell_formula', 'elements', 'elasticity', 'cif', 'icsd_ids']\n",
    "\n",
    "materials = mpr.query(criteria=crt, properties=prt)"
   ]
  },
  {
   "cell_type": "code",
   "execution_count": 35,
   "id": "176725b7",
   "metadata": {},
   "outputs": [
    {
     "name": "stdout",
     "output_type": "stream",
     "text": [
      "TiN\n",
      "TiC\n",
      "C\n",
      "BN\n"
     ]
    }
   ],
   "source": [
    "for m in materials: print(m['pretty_formula'])"
   ]
  },
  {
   "cell_type": "code",
   "execution_count": 37,
   "id": "6309a0b7",
   "metadata": {},
   "outputs": [
    {
     "name": "stdout",
     "output_type": "stream",
     "text": [
      "Creating CIF files...\n",
      "Creating ID Properties csv file...\n",
      "Creating atom Init json file...\n",
      "Done creating predicting data.\n"
     ]
    }
   ],
   "source": [
    "ID_PROPS_DATA = []\n",
    "## Create CIF files for materials without elastic props\n",
    "print(f\"Creating CIF files...\")\n",
    "for i in materials:\n",
    "    \n",
    "    mat_name = f\"{i['pretty_formula']}_{i['material_id']}\"\n",
    "    bulk_modulus = random.randint(1, 999)\n",
    "\n",
    "    with open(os.path.join(ROOT_DIR, f\"src/data_common/{mat_name}.cif\"), 'w') as fo:\n",
    "        fo.write(i['cif'])\n",
    "\n",
    "    ## Create ID Properties csv file data\n",
    "    ID_PROPS_DATA.append([mat_name, bulk_modulus])\n",
    "    \n",
    "## Create ID Properties csv file\n",
    "print(f\"Creating ID Properties csv file...\")\n",
    "with open(os.path.join(ROOT_DIR, f\"src/data_common/id_prop.csv\"), 'w', newline='') as f_csv:\n",
    "    writer = csv.writer(f_csv)\n",
    "    for prop in ID_PROPS_DATA:\n",
    "        writer.writerow(prop)\n",
    "\n",
    "## Create atom Init json file\n",
    "print(f\"Creating atom Init json file...\")\n",
    "with open(os.path.join(ROOT_DIR, f\"atom_init.json\"), 'r') as fr:\n",
    "    with open(os.path.join(ROOT_DIR, \"src/data_common/atom_init.json\"), 'w') as fw:\n",
    "        json.dump(json.load(fr), fw, indent=2)\n",
    "\n",
    "print(f\"Done creating predicting data.\")"
   ]
  },
  {
   "cell_type": "code",
   "execution_count": 38,
   "id": "cbbf3753",
   "metadata": {},
   "outputs": [
    {
     "name": "stdout",
     "output_type": "stream",
     "text": [
      "python \"d:\\Projects and Research\\Python Projects\\Ternary-Metal-Nitrides-Research\\src/cgcnn-mod-transformers/predict.py\" \"d:\\Projects and Research\\Python Projects\\Ternary-Metal-Nitrides-Research\\src/17.776MAE_model_best.pth.tar\" \"d:\\Projects and Research\\Python Projects\\Ternary-Metal-Nitrides-Research\\src/data_common\"\n",
      "OUTPUT >> => loading model params 'd:\\Projects and Research\\Python Projects\\Ternary-Metal-Nitrides-Research\\src/17.776MAE_model_best.pth.tar'\n",
      "=> loaded model params 'd:\\Projects and Research\\Python Projects\\Ternary-Metal-Nitrides-Research\\src/17.776MAE_model_best.pth.tar'\n",
      "=> loading model 'd:\\Projects and Research\\Python Projects\\Ternary-Metal-Nitrides-Research\\src/17.776MAE_model_best.pth.tar'\n",
      "=> loaded model 'd:\\Projects and Research\\Python Projects\\Ternary-Metal-Nitrides-Research\\src/17.776MAE_model_best.pth.tar' (epoch 17, validation 15.8565092086792)\n",
      "Test: [0/1]\tTime 1.149 (1.149)\tLoss 17.2204 (17.2204)\tMAE 237.579 (237.579)\n",
      " ** MAE 237.579\n",
      "\n",
      "ERRORS >> d:\\Projects and Research\\Python Projects\\Ternary-Metal-Nitrides-Research\\venv\\lib\\site-packages\\pymatgen\\io\\cif.py:1160: UserWarning: Issues encountered while parsing CIF: Some fractional coordinates rounded to ideal values to avoid issues with finite precision.\n",
      "  warnings.warn(\"Issues encountered while parsing CIF: %s\" % \"\\n\".join(self.warnings))\n",
      "\n"
     ]
    }
   ],
   "source": [
    "\n",
    "predict_file = os.path.join(ROOT_DIR, \"src/cgcnn-mod-transformers/predict.py\")\n",
    "data_file = os.path.join(ROOT_DIR, \"src/data_common\")\n",
    "my_model = os.path.join(ROOT_DIR, \"src/17.776MAE_model_best.pth.tar\")\n",
    "paper_model = os.path.join(ROOT_DIR, \"src/cgcnn-master/pre-trained/bulk-moduli.pth.tar\")\n",
    "\n",
    "cmd = f\"python \\\"{predict_file}\\\" \\\"{my_model}\\\" \\\"{data_file}\\\"\"\n",
    "print(cmd)\n",
    "\n",
    "process = subprocess.Popen(cmd, shell=True, stdout=subprocess.PIPE, stderr=subprocess.PIPE)\n",
    "\n",
    "out, err = process.communicate()\n",
    "print(f\"OUTPUT >> {out.decode('utf-8')}\")\n",
    "print(f\"ERRORS >> {err.decode('utf-8')}\")"
   ]
  },
  {
   "cell_type": "code",
   "execution_count": 48,
   "id": "0f027c28",
   "metadata": {},
   "outputs": [
    {
     "name": "stdout",
     "output_type": "stream",
     "text": [
      "     material  experimental   predicted\n",
      "0     C_mp-66         436.0  343.799316\n",
      "3  TiN_mp-492         259.0  217.655197\n",
      "1  TiC_mp-631         253.0  189.237122\n",
      "2   BN_mp-984         103.0  287.590332\n",
      "Working on the bar plot...\n",
      "Widht = 0\n",
      "Done creating plots\n"
     ]
    },
    {
     "data": {
      "image/png": "[encoded data removed]",
      "text/plain": [
       "<Figure size 432x288 with 1 Axes>"
      ]
     },
     "metadata": {
      "needs_background": "light"
     },
     "output_type": "display_data"
    }
   ],
   "source": [
    "result_file = os.path.join(ROOT_DIR, \"src/predict_common_publish.csv\")\n",
    "\n",
    "df = pd.read_csv(result_file)\n",
    "# df = df.sort_values(by='test', ascending=False)\n",
    "\n",
    "lis = []\n",
    "for i in df.to_dict(orient='split')['data']:\n",
    "    result_dict = {}\n",
    "    for j in materials:\n",
    "        if j['material_id'] in i[0]:\n",
    "            result_dict['material'] = i[0]\n",
    "            result_dict['experimental'] = j['elasticity']['K_VRH']\n",
    "            result_dict['predicted'] = i[-1]\n",
    "        \n",
    "    lis.append(result_dict)\n",
    "\n",
    "df = pd.DataFrame(lis)\n",
    "df = df.sort_values(by='experimental', ascending=False)\n",
    "    \n",
    "print(df)\n",
    "\n",
    "print(f\"Working on the bar plot...\")\n",
    "width = int((df.shape[0] * 1) / 5)\n",
    "print(f\"Widht = {width}\")\n",
    "ax = df.plot(x=\"material\", y=[\"experimental\", \"predicted\"], kind='bar',\n",
    "        title=f\"Prediction of commonly known materials.\\n(Diamond, Titanium Nitride, Titanium Carbide, Boron Nitride)\",\n",
    "        )\n",
    "ax.set_xlabel(\"Material\")\n",
    "ax.set_ylabel(\"Predicted Bulk Modulus (GPa)\")\n",
    "\n",
    "print(\"Done creating plots\")"
   ]
  },
  {
   "cell_type": "code",
   "execution_count": 49,
   "id": "94a06303",
   "metadata": {},
   "outputs": [
    {
     "name": "stderr",
     "output_type": "stream",
     "text": [
      "100%|██████████| 21698/21698 [01:34<00:00, 228.42it/s]\n"
     ]
    }
   ],
   "source": [
    "## Get the properties for the common materials\n",
    "mpr = MPRester(API_TOKEN)\n",
    "# mpr.materials.available_fields\n",
    "\n",
    "crt = {\n",
    "        'elements': {'$all': ['O']},\n",
    "        'nelements': 3,\n",
    "        # 'band_gap': {'$lt': 1},\n",
    "    }\n",
    "prt = ['material_id', 'pretty_formula', 'full_formula', 'band_gap', \n",
    "            'unit_cell_formula', 'elements', 'elasticity','icsd_ids']\n",
    "\n",
    "materials = mpr.query(criteria=crt, properties=prt)"
   ]
  },
  {
   "cell_type": "code",
   "execution_count": 52,
   "id": "dbfd5d63",
   "metadata": {},
   "outputs": [],
   "source": [
    "e_ovac_materials = [m for m in materials if 'O3' in m['pretty_formula']]"
   ]
  },
  {
   "cell_type": "code",
   "execution_count": 55,
   "id": "0d59f1bd",
   "metadata": {},
   "outputs": [
    {
     "name": "stdout",
     "output_type": "stream",
     "text": [
      "4396\n"
     ]
    },
    {
     "data": {
      "text/plain": [
       "{'material_id': 'mp-1011260',\n",
       " 'pretty_formula': 'EuFeO3',\n",
       " 'full_formula': 'Eu2Fe2O6',\n",
       " 'band_gap': 0.0,\n",
       " 'unit_cell_formula': {'Eu': 2.0, 'Fe': 2.0, 'O': 6.0},\n",
       " 'elements': ['Eu', 'Fe', 'O'],\n",
       " 'elasticity': None,\n",
       " 'icsd_ids': []}"
      ]
     },
     "execution_count": 55,
     "metadata": {},
     "output_type": "execute_result"
    }
   ],
   "source": [
    "print(len(e_ovac_materials))\n",
    "e_ovac_materials[0]"
   ]
  }
 ],
 "metadata": {
  "kernelspec": {
   "display_name": "Python 3 (ipykernel)",
   "language": "python",
   "name": "python3"
  },
  "language_info": {
   "codemirror_mode": {
    "name": "ipython",
    "version": 3
   },
   "file_extension": ".py",
   "mimetype": "text/x-python",
   "name": "python",
   "nbconvert_exporter": "python",
   "pygments_lexer": "ipython3",
   "version": "3.8.10"
  },
  "vscode": {
   "interpreter": {
    "hash": "95eba54cfa366ced2eb165021c90a1b958b6533fda39772d70eb44b302334be8"
   }
  }
 },
 "nbformat": 4,
 "nbformat_minor": 5
}
