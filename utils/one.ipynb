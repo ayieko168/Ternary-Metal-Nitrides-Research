{
 "cells": [
  {
   "cell_type": "code",
   "execution_count": 47,
   "id": "340d021a",
   "metadata": {},
   "outputs": [],
   "source": [
    "import os, sys\n",
    "from numpy import mat\n",
    "from pymatgen.ext.matproj import MPRester\n",
    "import json"
   ]
  },
  {
   "cell_type": "code",
   "execution_count": 48,
   "id": "4acaae79",
   "metadata": {},
   "outputs": [
    {
     "name": "stdout",
     "output_type": "stream",
     "text": [
      "Python version info: 3.8.10 (tags/v3.8.10:3d8993a, May  3 2021, 11:48:03) [MSC v.1928 64 bit (AMD64)]\n"
     ]
    }
   ],
   "source": [
    "print(f\"Python version info: {sys.version}\")"
   ]
  },
  {
   "cell_type": "code",
   "execution_count": 49,
   "id": "c63f067c",
   "metadata": {},
   "outputs": [],
   "source": [
    "API_TOKEN = os.environ.get(\"MPTOKEN\")\n",
    "# print(API_TOKEN)"
   ]
  },
  {
   "cell_type": "markdown",
   "id": "00b9eb39",
   "metadata": {},
   "source": [
    "## Helper Functions"
   ]
  },
  {
   "cell_type": "code",
   "execution_count": 50,
   "id": "c1446ce5",
   "metadata": {},
   "outputs": [],
   "source": [
    "def pprint(obj: object):\n",
    "    print(json.dumps(obj, indent=2))\n",
    "    \n",
    "def save_findings(obj: object):\n",
    "    with open(\"../TMR_Data.json\", 'w') as fo:\n",
    "        json.dump(obj, fo, indent=2)"
   ]
  },
  {
   "cell_type": "markdown",
   "id": "841d0704",
   "metadata": {},
   "source": [
    "## Actial data cleaning and aquisition"
   ]
  },
  {
   "cell_type": "code",
   "execution_count": 51,
   "id": "3e3f3fec",
   "metadata": {},
   "outputs": [
    {
     "name": "stderr",
     "output_type": "stream",
     "text": [
      "100%|██████████| 3153/3153 [00:11<00:00, 282.48it/s]\n"
     ]
    }
   ],
   "source": [
    "## Get possible ternery metal nitrats from the materials project.\n",
    "# Search critea \n",
    "#   - All materials with nitrogen in its formula \n",
    "#   - these materials must have three elements\n",
    "#   - then these materials must have a band gap value of less than 1 (logically a metal)\n",
    "\n",
    "mpr = MPRester(API_TOKEN)\n",
    "\n",
    "crt = {\n",
    "    'elements': {'$all': ['N']},\n",
    "    'nelements': 3,\n",
    "    'band_gap': {'$lt': 1},\n",
    "    # 'anonymous_formula': {\"A\": 1, \"B\": 1, \"C\": 3}\n",
    "}\n",
    "prt = ['material_id', 'pretty_formula', 'full_formula', 'band_gap', 'unit_cell_formula', 'elements']\n",
    "\n",
    "materials = mpr.query(criteria=crt, properties=prt)"
   ]
  },
  {
   "cell_type": "code",
   "execution_count": 52,
   "id": "c67d044b",
   "metadata": {},
   "outputs": [
    {
     "name": "stdout",
     "output_type": "stream",
     "text": [
      "{'material_id': 'mp-1013531', 'pretty_formula': 'Sr3BiN', 'full_formula': 'Sr3Bi1N1', 'band_gap': 0.0, 'unit_cell_formula': {'Sr': 3.0, 'Bi': 1.0, 'N': 1.0}, 'elements': ['Bi', 'N', 'Sr']}\n",
      "{'material_id': 'mp-1013533', 'pretty_formula': 'Ba3PN', 'full_formula': 'Ba3P1N1', 'band_gap': 0.03489999999999993, 'unit_cell_formula': {'Ba': 3.0, 'P': 1.0, 'N': 1.0}, 'elements': ['Ba', 'P', 'N']}\n",
      "{'material_id': 'mp-1013543', 'pretty_formula': 'Ca3AsN', 'full_formula': 'Ca3As1N1', 'band_gap': 0.0, 'unit_cell_formula': {'Ca': 3.0, 'As': 1.0, 'N': 1.0}, 'elements': ['As', 'Ca', 'N']}\n",
      "{'material_id': 'mp-1013708', 'pretty_formula': 'Ba3SbN', 'full_formula': 'Ba3Sb1N1', 'band_gap': 0.0, 'unit_cell_formula': {'Ba': 3.0, 'Sb': 1.0, 'N': 1.0}, 'elements': ['Ba', 'Sb', 'N']}\n",
      "{'material_id': 'mp-1018710', 'pretty_formula': 'Hf2TaN3', 'full_formula': 'Hf2Ta1N3', 'band_gap': 0.0, 'unit_cell_formula': {'Hf': 2.0, 'Ta': 1.0, 'N': 3.0}, 'elements': ['Hf', 'N', 'Ta']}\n",
      "################################################## \n",
      "\n",
      "Found 3153 possible candidates\n"
     ]
    }
   ],
   "source": [
    "for i in materials[:5]: \n",
    "    print(i)\n",
    "\n",
    "print(\"#\"*50, f\"\\n\\nFound {len(materials)} possible candidates\")"
   ]
  },
  {
   "cell_type": "markdown",
   "id": "28501efc",
   "metadata": {},
   "source": [
    "Create a new materials object that includes the material type, ie metal or non metal"
   ]
  },
  {
   "cell_type": "code",
   "execution_count": 53,
   "id": "c846420e",
   "metadata": {},
   "outputs": [
    {
     "name": "stdout",
     "output_type": "stream",
     "text": [
      "['Noble gas', 'Actinide', 'Transition metal', 'Lanthanide', 'Post-transition metal', 'Alkaline earth metal', 'Nonmetal', 'Metalloid', 'Alkali metal', 'Halogen']\n"
     ]
    }
   ],
   "source": [
    "## Create a list that holds the different element groups\n",
    "with open(\"../my_elements_data.json\") as fo:\n",
    "    my_elements_data = json.load(fo)\n",
    "\n",
    "\n",
    "element_groups = list(set([i['GroupBlock'] for i in my_elements_data]))\n",
    "print(element_groups)"
   ]
  },
  {
   "cell_type": "code",
   "execution_count": 54,
   "id": "5e7e2b21",
   "metadata": {},
   "outputs": [
    {
     "name": "stdout",
     "output_type": "stream",
     "text": [
      "[\n",
      "  {\n",
      "    \"material_id\": \"mp-1013531\",\n",
      "    \"pretty_formula\": \"Sr3BiN\",\n",
      "    \"full_formula\": \"Sr3Bi1N1\",\n",
      "    \"band_gap\": 0.0,\n",
      "    \"unit_cell_formula\": {\n",
      "      \"Sr\": 3.0,\n",
      "      \"Bi\": 1.0,\n",
      "      \"N\": 1.0\n",
      "    },\n",
      "    \"elements\": [\n",
      "      \"Bi\",\n",
      "      \"N\",\n",
      "      \"Sr\"\n",
      "    ],\n",
      "    \"descriptive\": [\n",
      "      \"Bi - Bismuth - Post-transition metal\",\n",
      "      \"N - Nitrogen - Nonmetal\",\n",
      "      \"Sr - Strontium - Alkaline earth metal\"\n",
      "    ]\n",
      "  },\n",
      "  {\n",
      "    \"material_id\": \"mp-1013533\",\n",
      "    \"pretty_formula\": \"Ba3PN\",\n",
      "    \"full_formula\": \"Ba3P1N1\",\n",
      "    \"band_gap\": 0.03489999999999993,\n",
      "    \"unit_cell_formula\": {\n",
      "      \"Ba\": 3.0,\n",
      "      \"P\": 1.0,\n",
      "      \"N\": 1.0\n",
      "    },\n",
      "    \"elements\": [\n",
      "      \"Ba\",\n",
      "      \"P\",\n",
      "      \"N\"\n",
      "    ],\n",
      "    \"descriptive\": [\n",
      "      \"Ba - Barium - Alkaline earth metal\",\n",
      "      \"P - Phosphorus - Nonmetal\",\n",
      "      \"N - Nitrogen - Nonmetal\"\n",
      "    ]\n",
      "  }\n",
      "]\n"
     ]
    }
   ],
   "source": [
    "## Read my data for metals and non metals\n",
    "with open(\"../my_elements_data.json\") as fo:\n",
    "    my_elements_data = json.load(fo)\n",
    "    \n",
    "# print(my_elements_data[:1])\n",
    "\n",
    "\n",
    "my_classified_data_list = []\n",
    "## Create new entry for every material object\n",
    "for material in materials:\n",
    "    my_classified_data = {}\n",
    "    \n",
    "    my_classified_data.update(material)\n",
    "    \n",
    "    # print(f\"Processing - {material['pretty_formula']}\")\n",
    "    descriptive = []\n",
    "    for element in material['elements']:\n",
    "        # print(element)\n",
    "        \n",
    "        for i in my_elements_data:\n",
    "            if i['Symbol'] == element:\n",
    "                \n",
    "                descriptive.append(f\"{element} - {i['Name']} - {i['GroupBlock']}\")\n",
    "                # print(f\"{element} - {i['Name']} is a {i['GroupBlock']}\")\n",
    "                # print(descriptive)\n",
    "            \n",
    "            my_classified_data['descriptive'] = descriptive\n",
    "    \n",
    "    my_classified_data_list.append(my_classified_data)\n",
    "    # print(json.dumps(my_classified_data, indent=2))\n",
    "    # print(\"#\"*60, '\\n\\n')\n",
    "\n",
    "\n",
    "pprint(my_classified_data_list[:2])"
   ]
  },
  {
   "cell_type": "markdown",
   "id": "87c2cb37",
   "metadata": {},
   "source": [
    "Now We check if the material passes our search criteria of Metal-Metal-Nitrogen"
   ]
  },
  {
   "cell_type": "code",
   "execution_count": 55,
   "id": "e9ebd8eb",
   "metadata": {},
   "outputs": [
    {
     "name": "stdout",
     "output_type": "stream",
     "text": [
      "[\n",
      "  {\n",
      "    \"material_id\": \"mp-1013531\",\n",
      "    \"pretty_formula\": \"Sr3BiN\",\n",
      "    \"full_formula\": \"Sr3Bi1N1\",\n",
      "    \"band_gap\": 0.0,\n",
      "    \"unit_cell_formula\": {\n",
      "      \"Sr\": 3.0,\n",
      "      \"Bi\": 1.0,\n",
      "      \"N\": 1.0\n",
      "    },\n",
      "    \"elements\": [\n",
      "      \"Bi\",\n",
      "      \"N\",\n",
      "      \"Sr\"\n",
      "    ],\n",
      "    \"descriptive\": [\n",
      "      \"Bi - Bismuth - Post-transition metal\",\n",
      "      \"N - Nitrogen - Nonmetal\",\n",
      "      \"Sr - Strontium - Alkaline earth metal\"\n",
      "    ]\n",
      "  },\n",
      "  {\n",
      "    \"material_id\": \"mp-1018710\",\n",
      "    \"pretty_formula\": \"Hf2TaN3\",\n",
      "    \"full_formula\": \"Hf2Ta1N3\",\n",
      "    \"band_gap\": 0.0,\n",
      "    \"unit_cell_formula\": {\n",
      "      \"Hf\": 2.0,\n",
      "      \"Ta\": 1.0,\n",
      "      \"N\": 3.0\n",
      "    },\n",
      "    \"elements\": [\n",
      "      \"Hf\",\n",
      "      \"N\",\n",
      "      \"Ta\"\n",
      "    ],\n",
      "    \"descriptive\": [\n",
      "      \"Hf - Hafnium - Transition metal\",\n",
      "      \"N - Nitrogen - Nonmetal\",\n",
      "      \"Ta - Tantalum - Transition metal\"\n",
      "    ]\n",
      "  }\n",
      "]\n",
      "Found 1934 possible candidates (unique ids = 1934)\n"
     ]
    }
   ],
   "source": [
    "# print(json.dumps(my_classified_data_list[:1], indent=2))\n",
    "\n",
    "final_materials_list = []\n",
    "## Metal Groups list\n",
    "metal_groups = ['Transition metal', 'Actinide', 'Lanthanide', 'Alkali metal', 'Post-transition metal', 'Alkaline earth metal']\n",
    "\n",
    "## Go through all the materials anch check their description for metal groups, metal group, and nitrogen\n",
    "for material in my_classified_data_list:\n",
    "    # pprint(material)\n",
    "    \n",
    "    # print(material['pretty_formula'], list(material['unit_cell_formula'].keys()), [i.split(' - ') for i in material['descriptive']])\n",
    "    \n",
    "    ## Represent the material formula in terma of its group\n",
    "    element_group_formula = []\n",
    "    for i in list(material['unit_cell_formula'].keys()):\n",
    "        for j in [i.split(' - ') for i in material['descriptive']]:\n",
    "            if j[0] == i:\n",
    "                if len(element_group_formula) < 2:\n",
    "                    element_group_formula.append(j[2])\n",
    "                else:\n",
    "                    element_group_formula.append(j[1])\n",
    "    \n",
    "    ## Check the material group-formula if matches M-M-N\n",
    "    # print(material['pretty_formula'], element_group_formula)\n",
    "    if (element_group_formula[0] in metal_groups) and (element_group_formula[1] in metal_groups) and (element_group_formula[2].lower() in \"Nitrogen\".lower()):\n",
    "        # print(material['pretty_formula'], element_group_formula)\n",
    "        final_materials_list.append(material)\n",
    "    \n",
    "    \n",
    "    # break\n",
    "\n",
    "# final_materials_list = set(final_materials_list)\n",
    "pprint(final_materials_list[:2])\n",
    "print(f\"Found {len(final_materials_list)} possible candidates (unique ids = {len(set([mat['material_id'] for mat in final_materials_list]))})\")\n",
    "    \n",
    "        \n",
    "    "
   ]
  },
  {
   "cell_type": "code",
   "execution_count": 56,
   "id": "be30b22b",
   "metadata": {},
   "outputs": [],
   "source": [
    "## Write findings to disk\n",
    "final_materials_list_out = {}\n",
    "\n",
    "my_outro = {}\n",
    "my_outro['Total-Candidates'] = len(final_materials_list)\n",
    "# my_outro['Search-Criteria'] = crt\n",
    "# my_outro['Pulled-Properties'] = prt\n",
    "\n",
    "final_materials_list_out['summary'] = my_outro\n",
    "final_materials_list_out['candidates'] = final_materials_list\n",
    "\n",
    "save_findings(final_materials_list_out)"
   ]
  }
 ],
 "metadata": {
  "kernelspec": {
   "display_name": "Python 3 (ipykernel)",
   "language": "python",
   "name": "python3"
  },
  "language_info": {
   "codemirror_mode": {
    "name": "ipython",
    "version": 3
   },
   "file_extension": ".py",
   "mimetype": "text/x-python",
   "name": "python",
   "nbconvert_exporter": "python",
   "pygments_lexer": "ipython3",
   "version": "3.8.10"
  }
 },
 "nbformat": 4,
 "nbformat_minor": 5
}
