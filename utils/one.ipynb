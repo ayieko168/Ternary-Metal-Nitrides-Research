{
 "cells": [
  {
   "cell_type": "code",
   "execution_count": 2,
   "id": "340d021a",
   "metadata": {},
   "outputs": [],
   "source": [
    "import os, sys\n",
    "from numpy import mat\n",
    "from pymatgen.ext.matproj import MPRester\n",
    "import json"
   ]
  },
  {
   "cell_type": "code",
   "execution_count": 3,
   "id": "4acaae79",
   "metadata": {},
   "outputs": [
    {
     "name": "stdout",
     "output_type": "stream",
     "text": [
      "Python version info: 3.8.10 (tags/v3.8.10:3d8993a, May  3 2021, 11:48:03) [MSC v.1928 64 bit (AMD64)]\n"
     ]
    }
   ],
   "source": [
    "print(f\"Python version info: {sys.version}\")"
   ]
  },
  {
   "cell_type": "code",
   "execution_count": 4,
   "id": "c63f067c",
   "metadata": {},
   "outputs": [],
   "source": [
    "API_TOKEN = os.environ.get(\"MPTOKEN\")\n",
    "# print(API_TOKEN)"
   ]
  },
  {
   "cell_type": "markdown",
   "id": "00b9eb39",
   "metadata": {},
   "source": [
    "## Helper Functions"
   ]
  },
  {
   "cell_type": "code",
   "execution_count": 5,
   "id": "c1446ce5",
   "metadata": {},
   "outputs": [],
   "source": [
    "def pprint(obj: object):\n",
    "    print(json.dumps(obj, indent=2))\n",
    "    \n",
    "def save_findings(obj: object):\n",
    "    with open(\"../TMR_Data.json\", 'w') as fo:\n",
    "        json.dump(obj, fo, indent=2)"
   ]
  },
  {
   "cell_type": "markdown",
   "id": "841d0704",
   "metadata": {},
   "source": [
    "## Actial data cleaning and aquisition"
   ]
  },
  {
   "cell_type": "code",
   "execution_count": 6,
   "id": "3e3f3fec",
   "metadata": {},
   "outputs": [
    {
     "name": "stderr",
     "output_type": "stream",
     "text": [
      "100%|██████████| 4529/4529 [00:15<00:00, 283.11it/s]\n"
     ]
    }
   ],
   "source": [
    "## Get possible ternery metal nitrats from the materials project.\n",
    "# Search critea \n",
    "#   - All materials with nitrogen in its formula \n",
    "#   - these materials must have three elements\n",
    "#   - then these materials must have a band gap value of less than 1 (logically a metal)\n",
    "\n",
    "mpr = MPRester(API_TOKEN)\n",
    "\n",
    "crt = {\n",
    "    'elements': {'$all': ['N']},\n",
    "    'nelements': 3,\n",
    "    # 'band_gap': {'$lt': 1},\n",
    "    # 'anonymous_formula': {\"A\": 1, \"B\": 1, \"C\": 3}\n",
    "}\n",
    "prt = ['material_id', 'pretty_formula', 'full_formula', 'band_gap', 'unit_cell_formula', 'elements']\n",
    "\n",
    "materials = mpr.query(criteria=crt, properties=prt)"
   ]
  },
  {
   "cell_type": "code",
   "execution_count": 7,
   "id": "c67d044b",
   "metadata": {},
   "outputs": [
    {
     "name": "stdout",
     "output_type": "stream",
     "text": [
      "{'material_id': 'mp-1097065', 'pretty_formula': 'Li2HfN2', 'full_formula': 'Li2Hf1N2', 'band_gap': 1.9339000000000004, 'unit_cell_formula': {'Li': 2.0, 'Hf': 1.0, 'N': 2.0}, 'elements': ['Hf', 'Li', 'N']}\n",
      "{'material_id': 'mp-1182541', 'pretty_formula': 'B24N4O', 'full_formula': 'B96N16O4', 'band_gap': 0.5880999999999998, 'unit_cell_formula': {'B': 96.0, 'N': 16.0, 'O': 4.0}, 'elements': ['B', 'N', 'O']}\n",
      "{'material_id': 'mp-1189871', 'pretty_formula': 'Zr5Sn3N', 'full_formula': 'Zr10Sn6N2', 'band_gap': 0.0, 'unit_cell_formula': {'Zr': 10.0, 'Sn': 6.0, 'N': 2.0}, 'elements': ['N', 'Sn', 'Zr']}\n",
      "{'material_id': 'mp-1192449', 'pretty_formula': 'NClO4', 'full_formula': 'N4Cl4O16', 'band_gap': 0.0, 'unit_cell_formula': {'N': 4.0, 'Cl': 4.0, 'O': 16.0}, 'elements': ['Cl', 'N', 'O']}\n",
      "{'material_id': 'mp-1196573', 'pretty_formula': 'NaYbN4', 'full_formula': 'Na8Yb8N32', 'band_gap': 0.0, 'unit_cell_formula': {'Na': 8.0, 'Yb': 8.0, 'N': 32.0}, 'elements': ['N', 'Na', 'Yb']}\n",
      "################################################## \n",
      "\n",
      "Found 4529 possible candidates\n"
     ]
    }
   ],
   "source": [
    "for i in materials[:5]: \n",
    "    print(i)\n",
    "\n",
    "print(\"#\"*50, f\"\\n\\nFound {len(materials)} possible candidates\")"
   ]
  },
  {
   "cell_type": "markdown",
   "id": "28501efc",
   "metadata": {},
   "source": [
    "Create a new materials object that includes the material type, ie metal or non metal"
   ]
  },
  {
   "cell_type": "code",
   "execution_count": 8,
   "id": "c846420e",
   "metadata": {},
   "outputs": [
    {
     "name": "stdout",
     "output_type": "stream",
     "text": [
      "['Post-transition metal', 'Transition metal', 'Metalloid', 'Nonmetal', 'Alkali metal', 'Actinide', 'Halogen', 'Lanthanide', 'Noble gas', 'Alkaline earth metal']\n"
     ]
    }
   ],
   "source": [
    "## Create a list that holds the different element groups\n",
    "with open(\"../my_elements_data.json\") as fo:\n",
    "    my_elements_data = json.load(fo)\n",
    "\n",
    "\n",
    "element_groups = list(set([i['GroupBlock'] for i in my_elements_data]))\n",
    "print(element_groups)"
   ]
  },
  {
   "cell_type": "code",
   "execution_count": 9,
   "id": "5e7e2b21",
   "metadata": {},
   "outputs": [
    {
     "name": "stdout",
     "output_type": "stream",
     "text": [
      "[\n",
      "  {\n",
      "    \"material_id\": \"mp-1097065\",\n",
      "    \"pretty_formula\": \"Li2HfN2\",\n",
      "    \"full_formula\": \"Li2Hf1N2\",\n",
      "    \"band_gap\": 1.9339000000000004,\n",
      "    \"unit_cell_formula\": {\n",
      "      \"Li\": 2.0,\n",
      "      \"Hf\": 1.0,\n",
      "      \"N\": 2.0\n",
      "    },\n",
      "    \"elements\": [\n",
      "      \"Hf\",\n",
      "      \"Li\",\n",
      "      \"N\"\n",
      "    ],\n",
      "    \"descriptive\": [\n",
      "      \"Hf - Hafnium - Transition metal\",\n",
      "      \"Li - Lithium - Alkali metal\",\n",
      "      \"N - Nitrogen - Nonmetal\"\n",
      "    ]\n",
      "  },\n",
      "  {\n",
      "    \"material_id\": \"mp-1182541\",\n",
      "    \"pretty_formula\": \"B24N4O\",\n",
      "    \"full_formula\": \"B96N16O4\",\n",
      "    \"band_gap\": 0.5880999999999998,\n",
      "    \"unit_cell_formula\": {\n",
      "      \"B\": 96.0,\n",
      "      \"N\": 16.0,\n",
      "      \"O\": 4.0\n",
      "    },\n",
      "    \"elements\": [\n",
      "      \"B\",\n",
      "      \"N\",\n",
      "      \"O\"\n",
      "    ],\n",
      "    \"descriptive\": [\n",
      "      \"B - Boron - Metalloid\",\n",
      "      \"N - Nitrogen - Nonmetal\",\n",
      "      \"O - Oxygen - Nonmetal\"\n",
      "    ]\n",
      "  }\n",
      "]\n"
     ]
    }
   ],
   "source": [
    "## Read my data for metals and non metals\n",
    "with open(\"../my_elements_data.json\") as fo:\n",
    "    my_elements_data = json.load(fo)\n",
    "    \n",
    "# print(my_elements_data[:1])\n",
    "\n",
    "\n",
    "my_classified_data_list = []\n",
    "## Create new entry for every material object\n",
    "for material in materials:\n",
    "    my_classified_data = {}\n",
    "    \n",
    "    my_classified_data.update(material)\n",
    "    \n",
    "    # print(f\"Processing - {material['pretty_formula']}\")\n",
    "    descriptive = []\n",
    "    for element in material['elements']:\n",
    "        # print(element)\n",
    "        \n",
    "        for i in my_elements_data:\n",
    "            if i['Symbol'] == element:\n",
    "                \n",
    "                descriptive.append(f\"{element} - {i['Name']} - {i['GroupBlock']}\")\n",
    "                # print(f\"{element} - {i['Name']} is a {i['GroupBlock']}\")\n",
    "                # print(descriptive)\n",
    "            \n",
    "            my_classified_data['descriptive'] = descriptive\n",
    "    \n",
    "    my_classified_data_list.append(my_classified_data)\n",
    "    # print(json.dumps(my_classified_data, indent=2))\n",
    "    # print(\"#\"*60, '\\n\\n')\n",
    "\n",
    "\n",
    "pprint(my_classified_data_list[:2])"
   ]
  },
  {
   "cell_type": "markdown",
   "id": "87c2cb37",
   "metadata": {},
   "source": [
    "Now We check if the material passes our search criteria of Metal-Metal-Nitrogen"
   ]
  },
  {
   "cell_type": "code",
   "execution_count": 10,
   "id": "e9ebd8eb",
   "metadata": {},
   "outputs": [
    {
     "name": "stdout",
     "output_type": "stream",
     "text": [
      "[\n",
      "  {\n",
      "    \"material_id\": \"mp-1097065\",\n",
      "    \"pretty_formula\": \"Li2HfN2\",\n",
      "    \"full_formula\": \"Li2Hf1N2\",\n",
      "    \"band_gap\": 1.9339000000000004,\n",
      "    \"unit_cell_formula\": {\n",
      "      \"Li\": 2.0,\n",
      "      \"Hf\": 1.0,\n",
      "      \"N\": 2.0\n",
      "    },\n",
      "    \"elements\": [\n",
      "      \"Hf\",\n",
      "      \"Li\",\n",
      "      \"N\"\n",
      "    ],\n",
      "    \"descriptive\": [\n",
      "      \"Hf - Hafnium - Transition metal\",\n",
      "      \"Li - Lithium - Alkali metal\",\n",
      "      \"N - Nitrogen - Nonmetal\"\n",
      "    ]\n",
      "  },\n",
      "  {\n",
      "    \"material_id\": \"mp-1189871\",\n",
      "    \"pretty_formula\": \"Zr5Sn3N\",\n",
      "    \"full_formula\": \"Zr10Sn6N2\",\n",
      "    \"band_gap\": 0.0,\n",
      "    \"unit_cell_formula\": {\n",
      "      \"Zr\": 10.0,\n",
      "      \"Sn\": 6.0,\n",
      "      \"N\": 2.0\n",
      "    },\n",
      "    \"elements\": [\n",
      "      \"N\",\n",
      "      \"Sn\",\n",
      "      \"Zr\"\n",
      "    ],\n",
      "    \"descriptive\": [\n",
      "      \"N - Nitrogen - Nonmetal\",\n",
      "      \"Sn - Tin - Post-transition metal\",\n",
      "      \"Zr - Zirconium - Transition metal\"\n",
      "    ]\n",
      "  }\n",
      "]\n",
      "Found 2236 possible candidates (unique ids = 2236)\n"
     ]
    }
   ],
   "source": [
    "# print(json.dumps(my_classified_data_list[:1], indent=2))\n",
    "\n",
    "final_materials_list = []\n",
    "## Metal Groups list\n",
    "metal_groups = ['Transition metal', 'Actinide', 'Lanthanide', 'Alkali metal', 'Post-transition metal', 'Alkaline earth metal']\n",
    "\n",
    "## Go through all the materials anch check their description for metal groups, metal group, and nitrogen\n",
    "for material in my_classified_data_list:\n",
    "    # pprint(material)\n",
    "    \n",
    "    # print(material['pretty_formula'], list(material['unit_cell_formula'].keys()), [i.split(' - ') for i in material['descriptive']])\n",
    "    \n",
    "    ## Represent the material formula in terma of its group\n",
    "    element_group_formula = []\n",
    "    for i in list(material['unit_cell_formula'].keys()):\n",
    "        for j in [i.split(' - ') for i in material['descriptive']]:\n",
    "            if j[0] == i:\n",
    "                if len(element_group_formula) < 2:\n",
    "                    element_group_formula.append(j[2])\n",
    "                else:\n",
    "                    element_group_formula.append(j[1])\n",
    "    \n",
    "    ## Check the material group-formula if matches M-M-N\n",
    "    # print(material['pretty_formula'], element_group_formula)\n",
    "    if (element_group_formula[0] in metal_groups) and (element_group_formula[1] in metal_groups) and (element_group_formula[2].lower() in \"Nitrogen\".lower()):\n",
    "        # print(material['pretty_formula'], element_group_formula)\n",
    "        final_materials_list.append(material)\n",
    "    \n",
    "    \n",
    "    # break\n",
    "\n",
    "# final_materials_list = set(final_materials_list)\n",
    "pprint(final_materials_list[:2])\n",
    "print(f\"Found {len(final_materials_list)} possible candidates (unique ids = {len(set([mat['material_id'] for mat in final_materials_list]))})\")\n",
    "    \n",
    "        \n",
    "    "
   ]
  },
  {
   "cell_type": "code",
   "execution_count": 11,
   "id": "be30b22b",
   "metadata": {},
   "outputs": [],
   "source": [
    "## Write findings to disk\n",
    "final_materials_list_out = {}\n",
    "\n",
    "my_outro = {}\n",
    "my_outro['Total-Candidates'] = len(final_materials_list)\n",
    "# my_outro['Search-Criteria'] = crt\n",
    "# my_outro['Pulled-Properties'] = prt\n",
    "\n",
    "final_materials_list_out['summary'] = my_outro\n",
    "final_materials_list_out['candidates'] = final_materials_list\n",
    "\n",
    "save_findings(final_materials_list_out)"
   ]
  },
  {
   "cell_type": "code",
   "execution_count": null,
   "id": "9c50863d",
   "metadata": {},
   "outputs": [],
   "source": []
  }
 ],
 "metadata": {
  "kernelspec": {
   "display_name": "Python 3 (ipykernel)",
   "language": "python",
   "name": "python3"
  },
  "language_info": {
   "codemirror_mode": {
    "name": "ipython",
    "version": 3
   },
   "file_extension": ".py",
   "mimetype": "text/x-python",
   "name": "python",
   "nbconvert_exporter": "python",
   "pygments_lexer": "ipython3",
   "version": "3.8.10"
  }
 },
 "nbformat": 4,
 "nbformat_minor": 5
}
