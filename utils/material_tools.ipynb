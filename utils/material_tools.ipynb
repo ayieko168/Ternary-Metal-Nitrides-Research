{
 "cells": [
  {
   "cell_type": "markdown",
   "id": "8adfea72",
   "metadata": {},
   "source": [
    "### This Notebook contains a suite of usefull visualizers and tools for working and studying materials"
   ]
  },
  {
   "cell_type": "markdown",
   "id": "0d80058d",
   "metadata": {},
   "source": [
    "#### 1) Material CIF Visualizer"
   ]
  },
  {
   "cell_type": "code",
   "execution_count": 6,
   "id": "593e509a",
   "metadata": {},
   "outputs": [
    {
     "ename": "RuntimeError",
     "evalue": "Visualization requires the installation of VTK with Python bindings.",
     "output_type": "error",
     "traceback": [
      "\u001b[1;31m---------------------------------------------------------------------------\u001b[0m",
      "\u001b[1;31mRuntimeError\u001b[0m                              Traceback (most recent call last)",
      "\u001b[1;32md:\\Projects and Research\\Python Projects\\Ternary-Metal-Nitrides-Research\\utils\\material_tools.ipynb Cell 3'\u001b[0m in \u001b[0;36m<module>\u001b[1;34m\u001b[0m\n\u001b[0;32m      <a href='vscode-notebook-cell:/d%3A/Projects%20and%20Research/Python%20Projects/Ternary-Metal-Nitrides-Research/utils/material_tools.ipynb#ch0000007?line=1'>2</a>\u001b[0m \u001b[39mfrom\u001b[39;00m \u001b[39mpymatgen\u001b[39;00m\u001b[39m.\u001b[39;00m\u001b[39mcore\u001b[39;00m \u001b[39mimport\u001b[39;00m Structure\n\u001b[0;32m      <a href='vscode-notebook-cell:/d%3A/Projects%20and%20Research/Python%20Projects/Ternary-Metal-Nitrides-Research/utils/material_tools.ipynb#ch0000007?line=4'>5</a>\u001b[0m structure \u001b[39m=\u001b[39m Structure\u001b[39m.\u001b[39mfrom_file(\u001b[39mr\u001b[39m\u001b[39m'\u001b[39m\u001b[39mD:\u001b[39m\u001b[39m\\\u001b[39m\u001b[39mProjects and Research\u001b[39m\u001b[39m\\\u001b[39m\u001b[39mPython Projects\u001b[39m\u001b[39m\\\u001b[39m\u001b[39mTernary-Metal-Nitrides-Research\u001b[39m\u001b[39m\\\u001b[39m\u001b[39mutils\u001b[39m\u001b[39m\\\u001b[39m\u001b[39mdata\u001b[39m\u001b[39m\\\u001b[39m\u001b[39mAlGaN2_mp-1008556.cif\u001b[39m\u001b[39m'\u001b[39m)\n\u001b[1;32m----> <a href='vscode-notebook-cell:/d%3A/Projects%20and%20Research/Python%20Projects/Ternary-Metal-Nitrides-Research/utils/material_tools.ipynb#ch0000007?line=5'>6</a>\u001b[0m vis \u001b[39m=\u001b[39m StructureVis(structure)\n\u001b[0;32m      <a href='vscode-notebook-cell:/d%3A/Projects%20and%20Research/Python%20Projects/Ternary-Metal-Nitrides-Research/utils/material_tools.ipynb#ch0000007?line=6'>7</a>\u001b[0m vis\n",
      "File \u001b[1;32md:\\Projects and Research\\Python Projects\\Ternary-Metal-Nitrides-Research\\venv\\lib\\site-packages\\monty\\dev.py:96\u001b[0m, in \u001b[0;36mrequires.__call__.<locals>.decorated\u001b[1;34m(*args, **kwargs)\u001b[0m\n\u001b[0;32m     <a href='file:///d%3A/Projects%20and%20Research/Python%20Projects/Ternary-Metal-Nitrides-Research/venv/lib/site-packages/monty/dev.py?line=92'>93</a>\u001b[0m \u001b[39m@functools\u001b[39m\u001b[39m.\u001b[39mwraps(_callable)\n\u001b[0;32m     <a href='file:///d%3A/Projects%20and%20Research/Python%20Projects/Ternary-Metal-Nitrides-Research/venv/lib/site-packages/monty/dev.py?line=93'>94</a>\u001b[0m \u001b[39mdef\u001b[39;00m \u001b[39mdecorated\u001b[39m(\u001b[39m*\u001b[39margs, \u001b[39m*\u001b[39m\u001b[39m*\u001b[39mkwargs):\n\u001b[0;32m     <a href='file:///d%3A/Projects%20and%20Research/Python%20Projects/Ternary-Metal-Nitrides-Research/venv/lib/site-packages/monty/dev.py?line=94'>95</a>\u001b[0m     \u001b[39mif\u001b[39;00m \u001b[39mnot\u001b[39;00m \u001b[39mself\u001b[39m\u001b[39m.\u001b[39mcondition:\n\u001b[1;32m---> <a href='file:///d%3A/Projects%20and%20Research/Python%20Projects/Ternary-Metal-Nitrides-Research/venv/lib/site-packages/monty/dev.py?line=95'>96</a>\u001b[0m         \u001b[39mraise\u001b[39;00m \u001b[39mRuntimeError\u001b[39;00m(\u001b[39mself\u001b[39m\u001b[39m.\u001b[39mmessage)\n\u001b[0;32m     <a href='file:///d%3A/Projects%20and%20Research/Python%20Projects/Ternary-Metal-Nitrides-Research/venv/lib/site-packages/monty/dev.py?line=96'>97</a>\u001b[0m     \u001b[39mreturn\u001b[39;00m _callable(\u001b[39m*\u001b[39margs, \u001b[39m*\u001b[39m\u001b[39m*\u001b[39mkwargs)\n",
      "\u001b[1;31mRuntimeError\u001b[0m: Visualization requires the installation of VTK with Python bindings."
     ]
    }
   ],
   "source": [
    "from pymatgen.vis.structure_vtk import StructureVis  ## pip install vtk\n",
    "from pymatgen.core import Structure\n",
    "\n",
    "\n",
    "structure = Structure.from_file(r'D:\\Projects and Research\\Python Projects\\Ternary-Metal-Nitrides-Research\\utils\\data\\AlGaN2_mp-1008556.cif')\n",
    "vis = StructureVis(structure)\n",
    "vis"
   ]
  },
  {
   "cell_type": "code",
   "execution_count": null,
   "id": "a3a136d5",
   "metadata": {},
   "outputs": [],
   "source": []
  }
 ],
 "metadata": {
  "interpreter": {
   "hash": "5d3de47bf14a3f9bf8773b9e56fad065ca114c2ecd4ae8596f7dce3d2f800629"
  },
  "kernelspec": {
   "display_name": "Python 3.8.10 ('venv': venv)",
   "language": "python",
   "name": "python3"
  },
  "language_info": {
   "codemirror_mode": {
    "name": "ipython",
    "version": 3
   },
   "file_extension": ".py",
   "mimetype": "text/x-python",
   "name": "python",
   "nbconvert_exporter": "python",
   "pygments_lexer": "ipython3",
   "version": "3.8.10"
  }
 },
 "nbformat": 4,
 "nbformat_minor": 5
}
